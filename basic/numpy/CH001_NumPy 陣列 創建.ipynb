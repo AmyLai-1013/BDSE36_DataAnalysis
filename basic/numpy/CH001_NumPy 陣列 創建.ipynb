{
 "cells": [
  {
   "cell_type": "markdown",
   "metadata": {},
   "source": [
    "# Ch01 Create NumPy Array"
   ]
  },
  {
   "cell_type": "code",
   "execution_count": 2,
   "metadata": {},
   "outputs": [],
   "source": [
    "import numpy as np"
   ]
  },
  {
   "cell_type": "markdown",
   "metadata": {},
   "source": [
    "## NumPy 陣列創建 via numpy.array\n",
    "NumPy arrays can be created via the numpy.array constructor directly"
   ]
  },
  {
   "cell_type": "code",
   "execution_count": 3,
   "metadata": {},
   "outputs": [
    {
     "name": "stdout",
     "output_type": "stream",
     "text": [
      "\u001b[1;31mDocstring:\u001b[0m\n",
      "array(object, dtype=None, *, copy=True, order='K', subok=False, ndmin=0,\n",
      "      like=None)\n",
      "\n",
      "Create an array.\n",
      "\n",
      "Parameters\n",
      "----------\n",
      "object : array_like\n",
      "    An array, any object exposing the array interface, an object whose\n",
      "    ``__array__`` method returns an array, or any (nested) sequence.\n",
      "    If object is a scalar, a 0-dimensional array containing object is\n",
      "    returned.\n",
      "dtype : data-type, optional\n",
      "    The desired data-type for the array. If not given, NumPy will try to use\n",
      "    a default ``dtype`` that can represent the values (by applying promotion\n",
      "    rules when necessary.)\n",
      "copy : bool, optional\n",
      "    If ``True`` (default), then the array data is copied. If ``None``,\n",
      "    a copy will only be made if ``__array__`` returns a copy, if obj is\n",
      "    a nested sequence, or if a copy is needed to satisfy any of the other\n",
      "    requirements (``dtype``, ``order``, etc.). Note that any copy of\n",
      "    the data is shallow, i.e., for arrays with object dtype, the new\n",
      "    array will point to the same objects. See Examples for `ndarray.copy`.\n",
      "    For ``False`` it raises a ``ValueError`` if a copy cannot be avoided.\n",
      "    Default: ``True``.\n",
      "order : {'K', 'A', 'C', 'F'}, optional\n",
      "    Specify the memory layout of the array. If object is not an array, the\n",
      "    newly created array will be in C order (row major) unless 'F' is\n",
      "    specified, in which case it will be in Fortran order (column major).\n",
      "    If object is an array the following holds.\n",
      "\n",
      "    ===== ========= ===================================================\n",
      "    order  no copy                     copy=True\n",
      "    ===== ========= ===================================================\n",
      "    'K'   unchanged F & C order preserved, otherwise most similar order\n",
      "    'A'   unchanged F order if input is F and not C, otherwise C order\n",
      "    'C'   C order   C order\n",
      "    'F'   F order   F order\n",
      "    ===== ========= ===================================================\n",
      "\n",
      "    When ``copy=None`` and a copy is made for other reasons, the result is\n",
      "    the same as if ``copy=True``, with some exceptions for 'A', see the\n",
      "    Notes section. The default order is 'K'.\n",
      "subok : bool, optional\n",
      "    If True, then sub-classes will be passed-through, otherwise\n",
      "    the returned array will be forced to be a base-class array (default).\n",
      "ndmin : int, optional\n",
      "    Specifies the minimum number of dimensions that the resulting\n",
      "    array should have.  Ones will be prepended to the shape as\n",
      "    needed to meet this requirement.\n",
      "like : array_like, optional\n",
      "    Reference object to allow the creation of arrays which are not\n",
      "    NumPy arrays. If an array-like passed in as ``like`` supports\n",
      "    the ``__array_function__`` protocol, the result will be defined\n",
      "    by it. In this case, it ensures the creation of an array object\n",
      "    compatible with that passed in via this argument.\n",
      "\n",
      "    .. versionadded:: 1.20.0\n",
      "\n",
      "Returns\n",
      "-------\n",
      "out : ndarray\n",
      "    An array object satisfying the specified requirements.\n",
      "\n",
      "See Also\n",
      "--------\n",
      "empty_like : Return an empty array with shape and type of input.\n",
      "ones_like : Return an array of ones with shape and type of input.\n",
      "zeros_like : Return an array of zeros with shape and type of input.\n",
      "full_like : Return a new array with shape of input filled with value.\n",
      "empty : Return a new uninitialized array.\n",
      "ones : Return a new array setting values to one.\n",
      "zeros : Return a new array setting values to zero.\n",
      "full : Return a new array of given shape filled with value.\n",
      "copy: Return an array copy of the given object.\n",
      "\n",
      "\n",
      "Notes\n",
      "-----\n",
      "When order is 'A' and ``object`` is an array in neither 'C' nor 'F' order,\n",
      "and a copy is forced by a change in dtype, then the order of the result is\n",
      "not necessarily 'C' as expected. This is likely a bug.\n",
      "\n",
      "Examples\n",
      "--------\n",
      ">>> import numpy as np\n",
      ">>> np.array([1, 2, 3])\n",
      "array([1, 2, 3])\n",
      "\n",
      "Upcasting:\n",
      "\n",
      ">>> np.array([1, 2, 3.0])\n",
      "array([ 1.,  2.,  3.])\n",
      "\n",
      "More than one dimension:\n",
      "\n",
      ">>> np.array([[1, 2], [3, 4]])\n",
      "array([[1, 2],\n",
      "       [3, 4]])\n",
      "\n",
      "Minimum dimensions 2:\n",
      "\n",
      ">>> np.array([1, 2, 3], ndmin=2)\n",
      "array([[1, 2, 3]])\n",
      "\n",
      "Type provided:\n",
      "\n",
      ">>> np.array([1, 2, 3], dtype=complex)\n",
      "array([ 1.+0.j,  2.+0.j,  3.+0.j])\n",
      "\n",
      "Data-type consisting of more than one element:\n",
      "\n",
      ">>> x = np.array([(1,2),(3,4)],dtype=[('a','<i4'),('b','<i4')])\n",
      ">>> x['a']\n",
      "array([1, 3])\n",
      "\n",
      "Creating an array from sub-classes:\n",
      "\n",
      ">>> np.array(np.asmatrix('1 2; 3 4'))\n",
      "array([[1, 2],\n",
      "       [3, 4]])\n",
      "\n",
      ">>> np.array(np.asmatrix('1 2; 3 4'), subok=True)\n",
      "matrix([[1, 2],\n",
      "        [3, 4]])\n",
      "\u001b[1;31mType:\u001b[0m      builtin_function_or_method"
     ]
    }
   ],
   "source": [
    "# 語法查詢\n",
    "np.array?"
   ]
  },
  {
   "cell_type": "code",
   "execution_count": 4,
   "metadata": {},
   "outputs": [
    {
     "data": {
      "text/plain": [
       "<function numpy.array>"
      ]
     },
     "execution_count": 4,
     "metadata": {},
     "output_type": "execute_result"
    }
   ],
   "source": [
    "# 在未完成的語法後面按下 tab 鍵，會開啟自動完成功能 (語法提示) \n",
    "np.array"
   ]
  },
  {
   "cell_type": "markdown",
   "metadata": {},
   "source": [
    "## NumPy array vs Python list performance"
   ]
  },
  {
   "cell_type": "code",
   "execution_count": 4,
   "metadata": {},
   "outputs": [
    {
     "name": "stdout",
     "output_type": "stream",
     "text": [
      "[1, 2, 3]\n",
      "<class 'list'>\n"
     ]
    }
   ],
   "source": [
    "lst = [1, 2, 3]\n",
    "print(lst)\n",
    "print(type(lst))"
   ]
  },
  {
   "cell_type": "code",
   "execution_count": 5,
   "metadata": {},
   "outputs": [
    {
     "name": "stdout",
     "output_type": "stream",
     "text": [
      "[1 2 3]\n",
      "<class 'numpy.ndarray'>\n"
     ]
    }
   ],
   "source": [
    "arr = np.array([1, 2, 3])\n",
    "print(arr)\n",
    "print(type(arr))"
   ]
  },
  {
   "cell_type": "code",
   "execution_count": 6,
   "metadata": {},
   "outputs": [],
   "source": [
    "import time"
   ]
  },
  {
   "cell_type": "code",
   "execution_count": 7,
   "metadata": {},
   "outputs": [
    {
     "data": {
      "text/plain": [
       "1732859751.125216"
      ]
     },
     "execution_count": 7,
     "metadata": {},
     "output_type": "execute_result"
    }
   ],
   "source": [
    "time.time() #出來的是時間戳"
   ]
  },
  {
   "cell_type": "code",
   "execution_count": null,
   "metadata": {},
   "outputs": [
    {
     "name": "stdout",
     "output_type": "stream",
     "text": [
      "****** Test run with 1000000 elements ******\n",
      "Python list: 0.14929866790771484\n",
      "NumPy array: 0.004359722137451172\n",
      "NumPy array is 34.244996171934815 faster!\n"
     ]
    }
   ],
   "source": [
    "import time\n",
    "import numpy as np\n",
    "\n",
    "size_of_vec = 1000000\n",
    "\n",
    "def python_list():\n",
    "    t1 = time.time()\n",
    "    X = range(size_of_vec)\n",
    "    Y = range(size_of_vec)\n",
    "    Z = [X[i] + Y[i] for i in range(len(X))]\n",
    "    return time.time() - t1 # 時間差\n",
    "\n",
    "def numpy_array():\n",
    "    t1 = time.time()\n",
    "    X = np.arange(size_of_vec)\n",
    "    Y = np.arange(size_of_vec)\n",
    "    Z = X + Y\n",
    "    return time.time() - t1 #時間差\n",
    "\n",
    "\n",
    "count1 = python_list()\n",
    "count2 = numpy_array()\n",
    "print(\"****** Test run with {} elements ******\".format(size_of_vec))\n",
    "print(\"Python list: {}\".format(count1))\n",
    "print(\"NumPy array: {}\".format(count2))\n",
    "print(\"NumPy array is \" + str(count1/count2) + \" faster!\")"
   ]
  },
  {
   "cell_type": "code",
   "execution_count": 9,
   "metadata": {},
   "outputs": [
    {
     "name": "stdout",
     "output_type": "stream",
     "text": [
      "<class 'numpy.ndarray'>\n"
     ]
    }
   ],
   "source": [
    "# 資料類型確認\n",
    "arr = np.array([3, 5, 7, 9])\n",
    "print(type(arr))"
   ]
  },
  {
   "cell_type": "code",
   "execution_count": 10,
   "metadata": {},
   "outputs": [
    {
     "data": {
      "text/plain": [
       "array([3, 5, 7, 9])"
      ]
     },
     "execution_count": 10,
     "metadata": {},
     "output_type": "execute_result"
    }
   ],
   "source": [
    "# 如果希望宣告變數後，直接預覽變數，可以用「;」隔開，寫在同一行:\n",
    "a = np.array([3, 5, 7, 9]); a"
   ]
  },
  {
   "cell_type": "markdown",
   "metadata": {},
   "source": [
    "#### np.arange(): 從數值範圍來建立陣列"
   ]
  },
  {
   "cell_type": "code",
   "execution_count": null,
   "metadata": {},
   "outputs": [
    {
     "data": {
      "text/plain": [
       "array([0, 1, 2, 3, 4, 5, 6, 7, 8, 9])"
      ]
     },
     "execution_count": 5,
     "metadata": {},
     "output_type": "execute_result"
    }
   ],
   "source": [
    "# 跟 for i in range() 用法一樣\n",
    "'''\n",
    "用法:\n",
    "numpy.arange([start, ]stop, [step, ]dtype=None, *, like=None)\n",
    "'''\n",
    "a = np.arange(10); a"
   ]
  },
  {
   "cell_type": "code",
   "execution_count": 6,
   "metadata": {},
   "outputs": [
    {
     "data": {
      "text/plain": [
       "array([1, 2, 3, 4, 5, 6, 7, 8, 9])"
      ]
     },
     "execution_count": 6,
     "metadata": {},
     "output_type": "execute_result"
    }
   ],
   "source": [
    "# 取得陣列 [1, 2, 3, 4, 5, 6, 7, 8, 9]\n",
    "a = np.arange(1, 10); a"
   ]
  },
  {
   "cell_type": "code",
   "execution_count": 7,
   "metadata": {},
   "outputs": [
    {
     "data": {
      "text/plain": [
       "array([1, 4, 7])"
      ]
     },
     "execution_count": 7,
     "metadata": {},
     "output_type": "execute_result"
    }
   ],
   "source": [
    "# 1 ~ 10 之間，每隔 3 個元素，加入資料到陣列: [1, 4, 7]\n",
    "a = np.arange(1, 10, 3); a"
   ]
  },
  {
   "cell_type": "markdown",
   "metadata": {},
   "source": [
    "#### np.linspace(): 從數值範圍透過線性切割建立陣列"
   ]
  },
  {
   "cell_type": "code",
   "execution_count": 9,
   "metadata": {},
   "outputs": [
    {
     "data": {
      "text/plain": [
       "array([ 0.        ,  3.33333333,  6.66666667, 10.        ])"
      ]
     },
     "execution_count": 9,
     "metadata": {},
     "output_type": "execute_result"
    }
   ],
   "source": [
    "# 線性分割 切成幾等份\n",
    "'''\n",
    "用法:\n",
    "args - start element,end element, number of elements\n",
    "'''\n",
    "# 0 到 10 切成4等份\n",
    "a = np.linspace(0, 10, 4); a "
   ]
  },
  {
   "cell_type": "markdown",
   "metadata": {},
   "source": [
    "## NumPy 資料型態"
   ]
  },
  {
   "cell_type": "code",
   "execution_count": 10,
   "metadata": {},
   "outputs": [
    {
     "name": "stdout",
     "output_type": "stream",
     "text": [
      "int64\n",
      "float64\n"
     ]
    }
   ],
   "source": [
    "ar1 = np.array([1, 2, 3]);ar1\n",
    "print(ar1.dtype)\n",
    "ar2 = np.array([1.2, 2.2, 3.2]); ar2\n",
    "print(ar2.dtype)"
   ]
  },
  {
   "cell_type": "code",
   "execution_count": 4,
   "metadata": {},
   "outputs": [
    {
     "data": {
      "text/plain": [
       "dtype('int64')"
      ]
     },
     "execution_count": 4,
     "metadata": {},
     "output_type": "execute_result"
    }
   ],
   "source": [
    "# 自動判斷資料型態\n",
    "a = np.array([1,2,3,4]); a.dtype"
   ]
  },
  {
   "cell_type": "code",
   "execution_count": 15,
   "metadata": {},
   "outputs": [
    {
     "data": {
      "text/plain": [
       "dtype('float64')"
      ]
     },
     "execution_count": 15,
     "metadata": {},
     "output_type": "execute_result"
    }
   ],
   "source": [
    "# 自動判斷資料型態 (其中一個元素變成浮點數，dtype 會自動轉型)\n",
    "a = np.array([1.3, 2, 3, 4]); a.dtype"
   ]
  },
  {
   "cell_type": "code",
   "execution_count": 18,
   "metadata": {},
   "outputs": [
    {
     "data": {
      "text/plain": [
       "dtype('float64')"
      ]
     },
     "execution_count": 18,
     "metadata": {},
     "output_type": "execute_result"
    }
   ],
   "source": [
    "# 指定陣列每一個資料的資料型態 (指定 float 預設為 float64)\n",
    "a = np.array([1, 2, 3, 4], dtype='float'); a.dtype\n",
    "# arr8.dtype"
   ]
  },
  {
   "cell_type": "code",
   "execution_count": 25,
   "metadata": {},
   "outputs": [
    {
     "data": {
      "text/plain": [
       "dtype('<U9')"
      ]
     },
     "execution_count": 25,
     "metadata": {},
     "output_type": "execute_result"
    }
   ],
   "source": [
    "# Unicode 最多9個字\n",
    "arr =np.array(['Goodbye','Welcome','Tata','Goodnight']); arr.dtype"
   ]
  },
  {
   "cell_type": "code",
   "execution_count": null,
   "metadata": {},
   "outputs": [
    {
     "data": {
      "text/plain": [
       "'this is a'"
      ]
     },
     "execution_count": 26,
     "metadata": {},
     "output_type": "execute_result"
    }
   ],
   "source": [
    "# 最多9個字元\n",
    "arr[2] = \"this is a book\"\n",
    "arr[2]\n",
    "\n",
    "# 存字串要用List 不然很容易爆掉"
   ]
  },
  {
   "cell_type": "code",
   "execution_count": 14,
   "metadata": {},
   "outputs": [
    {
     "name": "stdout",
     "output_type": "stream",
     "text": [
      "[ True False  True False]\n"
     ]
    }
   ],
   "source": [
    "# numpy 有boolean資料型態 適用於masking\n",
    "\n",
    "a = np.array([True, False, True, False]); a.dtype\n",
    "print(a)"
   ]
  },
  {
   "cell_type": "code",
   "execution_count": null,
   "metadata": {},
   "outputs": [
    {
     "name": "stdout",
     "output_type": "stream",
     "text": [
      "a_float:  [1. 2. 3. 4.]\n",
      "a_float 記憶體位址: 1938922019920\n",
      "a_int:  [1 2 3 4]\n",
      "a_int 記憶體位址: 1938922018480\n"
     ]
    }
   ],
   "source": [
    "# 傳回一個全新的整數陣列\n",
    "a_float = np.array([1, 2, 3, 4], dtype='float'); a_float.dtype\n",
    "\n",
    "a_int = a_float.astype(int); a_int.dtype # astype() 強制轉型\n",
    "\n",
    "\n",
    "print(\"a_float: \", a_float)\n",
    "print(f\"a_float 記憶體位址: {id(a_float)}\") # id() 看記憶體位置\n",
    "\n",
    "print(\"a_int: \", a_int)\n",
    "print(f\"a_int 記憶體位址: {id(a_int)}\")\n",
    "\n",
    "# a_float 和 a_int 為2個不同的陣列"
   ]
  },
  {
   "cell_type": "markdown",
   "metadata": {},
   "source": [
    "## Numpy 陣列的屬性\n",
    "- shape, ndim, dtype, itemsize, size\n",
    "### Dimensions or Axes in NumPy\n",
    "- Scalars (0D Arrays)\n",
    "- Vectors (1D Arrays)\n",
    "- Matrices (2D Arrays)\n",
    "- Tensor (3D Arrays)\n"
   ]
  },
  {
   "cell_type": "code",
   "execution_count": null,
   "metadata": {},
   "outputs": [
    {
     "name": "stdout",
     "output_type": "stream",
     "text": [
      "21\n",
      "Number of axes: 0\n",
      "data type: int64\n",
      "data size: 1\n",
      "Shape: ()\n"
     ]
    }
   ],
   "source": [
    "# Scalars (0D Arrays)\n",
    "s = np.array(21)\n",
    "\n",
    "print(s)\n",
    "print(\"Number of axes:\", s.ndim) # 陣列維度 \n",
    "print(\"data type:\", s.dtype) # 陣列資料型態 \n",
    "print(\"data size:\", s.size) # 陣列大小 \n",
    "print(\"Shape:\", s.shape) # 陣列形狀"
   ]
  },
  {
   "cell_type": "code",
   "execution_count": 16,
   "metadata": {},
   "outputs": [
    {
     "name": "stdout",
     "output_type": "stream",
     "text": [
      "[-1  2  7  9  2]\n",
      "Number of axes: 1\n",
      "data type: int64\n",
      "data size: 5\n",
      "Shape: (5,)\n"
     ]
    }
   ],
   "source": [
    "# Vectors (1D Arrays) 向量（一維陣列）\n",
    "vec = np.array([-1, 2, 7, 9, 2])\n",
    "\n",
    "print(vec)\n",
    "print(\"Number of axes:\", vec.ndim)\n",
    "print(\"data type:\", vec.dtype)\n",
    "print(\"data size:\", vec.size)\n",
    "print(\"Shape:\", vec.shape)"
   ]
  },
  {
   "cell_type": "code",
   "execution_count": null,
   "metadata": {},
   "outputs": [
    {
     "name": "stdout",
     "output_type": "stream",
     "text": [
      "[[1.2 2.3 3.3]\n",
      " [5.5 6.3 7.5]]\n",
      "Number of axes: 2\n",
      "data type: float64\n",
      "data size: 6\n",
      "Shape: (2, 3)\n"
     ]
    }
   ],
   "source": [
    "# Matrices (2D Arrays) 矩陣（二維陣列）\n",
    "mat = np.array([\n",
    "    [1.2, 2.3, 3.3],\n",
    "    [5.5, 6.3, 7.5]\n",
    "])\n",
    "\n",
    "print(mat)\n",
    "print(\"Number of axes:\", mat.ndim)\n",
    "print(\"data type:\", mat.dtype)\n",
    "print(\"data size:\", mat.size)\n",
    "print(\"Shape:\", mat.shape) # (2, 3) 共2列，每列3元素"
   ]
  },
  {
   "cell_type": "code",
   "execution_count": null,
   "metadata": {},
   "outputs": [
    {
     "name": "stdout",
     "output_type": "stream",
     "text": [
      "[[[  1   3   9]\n",
      "  [  7  -6   2]]\n",
      "\n",
      " [[  2   3   5]\n",
      "  [  0  -2  -2]]\n",
      "\n",
      " [[  9   6   2]\n",
      "  [ -7  -3 -12]]\n",
      "\n",
      " [[  2   4   5]\n",
      "  [ -1   9   8]]]\n",
      "Number of axes: 3\n",
      "data type: int64\n",
      "data size: 24\n",
      "Shape: (4, 2, 3)\n"
     ]
    }
   ],
   "source": [
    "# 3D Arrays 3D 陣列\n",
    "t = np.array([\n",
    "    [[1, 3, 9],\n",
    "     [7, -6, 2]],\n",
    "\n",
    "    [[2, 3, 5],\n",
    "     [0, -2, -2]],\n",
    "\n",
    "    [[9, 6, 2],\n",
    "     [-7, -3, -12]],\n",
    "\n",
    "    [[2, 4, 5],\n",
    "     [-1, 9, 8]]\n",
    "])\n",
    "\n",
    "print(t)\n",
    "print(\"Number of axes:\", t.ndim)\n",
    "print(\"data type:\", t.dtype)\n",
    "print(\"data size:\", t.size)\n",
    "print(\"Shape:\", t.shape) # (4, 2, 3) 共4層 每層2列 每列3元素"
   ]
  },
  {
   "cell_type": "markdown",
   "metadata": {},
   "source": [
    "## NumPy 陣列創建函式\n",
    "These functions include \n",
    "- numpy.zeros, 值都為0\n",
    "- numpy.ones, 值都為1\n",
    "- numpy.eye, 單位矩陣\n",
    "- nrandom.rand,\n",
    "- numpy.random.randn,\n",
    "- numpy.empty"
   ]
  },
  {
   "cell_type": "markdown",
   "metadata": {},
   "source": [
    "#### numpy.zeros"
   ]
  },
  {
   "cell_type": "code",
   "execution_count": 51,
   "metadata": {},
   "outputs": [
    {
     "data": {
      "text/plain": [
       "array([[0., 0.],\n",
       "       [0., 0.],\n",
       "       [0., 0.],\n",
       "       [0., 0.]])"
      ]
     },
     "execution_count": 51,
     "metadata": {},
     "output_type": "execute_result"
    }
   ],
   "source": [
    "# Produce 4x2 array of zeros.\n",
    "# 配置記憶體空間，並將記憶體內容清0\n",
    "arr_zeros =np.zeros((4,2)); arr_zeros"
   ]
  },
  {
   "cell_type": "markdown",
   "metadata": {},
   "source": [
    "#### numpy.ones"
   ]
  },
  {
   "cell_type": "code",
   "execution_count": 54,
   "metadata": {},
   "outputs": [
    {
     "data": {
      "text/plain": [
       "array([[[1., 1., 1., 1.],\n",
       "        [1., 1., 1., 1.],\n",
       "        [1., 1., 1., 1.]],\n",
       "\n",
       "       [[1., 1., 1., 1.],\n",
       "        [1., 1., 1., 1.],\n",
       "        [1., 1., 1., 1.]]])"
      ]
     },
     "execution_count": 54,
     "metadata": {},
     "output_type": "execute_result"
    }
   ],
   "source": [
    "# Produces 2x3x2 array of 1's.\n",
    "# pandas 只支援二維資料結構\n",
    "# 在深度學習tensor資料型態才會是三維資料結構\n",
    "arr_ones =np.ones((2,3,4)); arr_ones"
   ]
  },
  {
   "cell_type": "markdown",
   "metadata": {},
   "source": [
    "#### numpy.eye"
   ]
  },
  {
   "cell_type": "code",
   "execution_count": null,
   "metadata": {},
   "outputs": [
    {
     "data": {
      "text/plain": [
       "array([[1., 0., 0.],\n",
       "       [0., 1., 0.],\n",
       "       [0., 0., 1.]])"
      ]
     },
     "execution_count": 55,
     "metadata": {},
     "output_type": "execute_result"
    }
   ],
   "source": [
    "# Produces identity matrix 單位矩陣 行列元素數量一樣 只須給1個值\n",
    "arr_eye = np.eye(3); arr_eye"
   ]
  },
  {
   "cell_type": "markdown",
   "metadata": {},
   "source": [
    "#### numpy.empty"
   ]
  },
  {
   "cell_type": "code",
   "execution_count": 7,
   "metadata": {},
   "outputs": [
    {
     "data": {
      "text/plain": [
       "array([[0., 0., 0.],\n",
       "       [0., 0., 0.],\n",
       "       [0., 0., 0.]])"
      ]
     },
     "execution_count": 7,
     "metadata": {},
     "output_type": "execute_result"
    }
   ],
   "source": [
    "# np.empty(): 建立尚未初始化的陣列，裡面的元素是隨機產生的結果\n",
    "# 換句話說，只產生陣列，值都是隨機產生的，會產生非常接近0但不等於0的數\n",
    "# 註: 若需要初始化 (同時給元素預設的值)，建議使用 np.zeros、np.ones 或 np.fill\n",
    "'''\n",
    "numpy.empty(shape, dtype=float, order='C', *, like=None)\n",
    "'''\n",
    "arr_empty = np.empty((3,3)); arr_empty"
   ]
  },
  {
   "cell_type": "code",
   "execution_count": 13,
   "metadata": {},
   "outputs": [
    {
     "data": {
      "text/plain": [
       "array([[0., 0., 0.],\n",
       "       [0., 0., 0.],\n",
       "       [0., 0., 0.]])"
      ]
     },
     "execution_count": 13,
     "metadata": {},
     "output_type": "execute_result"
    }
   ],
   "source": [
    "arr_empty = np.zeros((3,3)); arr_empty"
   ]
  },
  {
   "cell_type": "markdown",
   "metadata": {},
   "source": [
    "#### numpy.full"
   ]
  },
  {
   "cell_type": "code",
   "execution_count": null,
   "metadata": {},
   "outputs": [
    {
     "data": {
      "text/plain": [
       "array([[10, 10, 10, 10],\n",
       "       [10, 10, 10, 10],\n",
       "       [10, 10, 10, 10]])"
      ]
     },
     "execution_count": 58,
     "metadata": {},
     "output_type": "execute_result"
    }
   ],
   "source": [
    "# np.full(): 建立填滿 fill_value 的陣列，透過 shape 指定幾維 \n",
    "'''\n",
    "numpy.full(shape, fill_value, dtype=None, order='C', *, like=None)\n",
    "'''\n",
    "arr_full = np.full((3,4), 10); arr_full # 數值都填入10"
   ]
  },
  {
   "cell_type": "markdown",
   "metadata": {},
   "source": [
    "### numpy.random.rand"
   ]
  },
  {
   "cell_type": "code",
   "execution_count": null,
   "metadata": {},
   "outputs": [
    {
     "data": {
      "text/plain": [
       "array([8, 9, 0, 2, 6, 5, 2, 3, 0, 6])"
      ]
     },
     "execution_count": 22,
     "metadata": {},
     "output_type": "execute_result"
    }
   ],
   "source": [
    "# Using the rand, randn functions\n",
    "# rand(m) produces an array of the given shape \n",
    "# with uniformly distributed random numbers over [0,1)\n",
    "\n",
    "np.random.seed(200) # Set seed 200用來固定隨機數，無意義\n",
    "\n",
    "arr_random = np.random.rand(10); arr_random # 產生10個隨機亂數 若沒有seed 每次執行結果數值都不固定\n",
    "\n",
    "(arr_random * 10).astype(int) # astype(int) 強制轉型成整數(無條件捨去)\n",
    "\n",
    "np.floor((arr_random * 10)).astype(int) # np.floor() 四捨五入\n"
   ]
  },
  {
   "cell_type": "code",
   "execution_count": null,
   "metadata": {},
   "outputs": [
    {
     "data": {
      "text/plain": [
       "array([7, 1, 3, 2, 7, 6, 6, 7, 8, 5], dtype=int32)"
      ]
     },
     "execution_count": 8,
     "metadata": {},
     "output_type": "execute_result"
    }
   ],
   "source": [
    "np.random.randint(10, size = 10) # 產生一個長度(size) = 10 的一維陣列，每個元素範圍為0~9的整數"
   ]
  },
  {
   "cell_type": "code",
   "execution_count": null,
   "metadata": {},
   "outputs": [
    {
     "data": {
      "text/plain": [
       "array([[-0.79988767,  0.26961896,  1.02768975,  1.38650625],\n",
       "       [-0.52359126,  0.44100709, -1.60468185,  0.17525988]])"
      ]
     },
     "execution_count": 16,
     "metadata": {},
     "output_type": "execute_result"
    }
   ],
   "source": [
    "# randn(m) produces m normally distributed (Gaussian) random numbers\n",
    "arr_random_num = np.random.randn(5); arr_random_num # randn(n) 正規化後的n筆資料(一維)\n",
    "\n",
    "arr_random_num = np.random.randn(2, 4); arr_random_num # randn(n, m) 正規化後的(二維)"
   ]
  },
  {
   "cell_type": "code",
   "execution_count": 23,
   "metadata": {},
   "outputs": [
    {
     "data": {
      "image/png": "[encoded data removed]",
      "text/plain": [
       "<Figure size 640x480 with 1 Axes>"
      ]
     },
     "metadata": {},
     "output_type": "display_data"
    }
   ],
   "source": [
    "import matplotlib.pyplot as plt\n",
    "arr_random_num = np.random.randn(100)\n",
    "\n",
    "plt.hist(arr_random_num, bins=10, alpha=0.7, color='blue')\n",
    "plt.title(\"Histogram of Random Numbers\")\n",
    "plt.xlabel(\"Value\")\n",
    "plt.ylabel(\"Frequency\")\n",
    "plt.show()\n"
   ]
  }
 ],
 "metadata": {
  "kernelspec": {
   "display_name": "Python 3",
   "language": "python",
   "name": "python3"
  },
  "language_info": {
   "codemirror_mode": {
    "name": "ipython",
    "version": 3
   },
   "file_extension": ".py",
   "mimetype": "text/x-python",
   "name": "python",
   "nbconvert_exporter": "python",
   "pygments_lexer": "ipython3",
   "version": "3.13.0"
  },
  "orig_nbformat": 4
 },
 "nbformat": 4,
 "nbformat_minor": 2
}
